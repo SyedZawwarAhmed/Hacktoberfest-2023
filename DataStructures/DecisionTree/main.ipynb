{
 "cells": [
  {
   "cell_type": "code",
   "execution_count": 17,
   "metadata": {},
   "outputs": [
    {
     "name": "stdout",
     "output_type": "stream",
     "text": [
      "        Sex   Age  Pclass      Fare\n",
      "0      male  34.5       3    7.8292\n",
      "1    female  47.0       3    7.0000\n",
      "2      male  62.0       2    9.6875\n",
      "3      male  27.0       3    8.6625\n",
      "4    female  22.0       3   12.2875\n",
      "..      ...   ...     ...       ...\n",
      "409  female   3.0       3   13.7750\n",
      "411  female  37.0       1   90.0000\n",
      "412  female  28.0       3    7.7750\n",
      "414  female  39.0       1  108.9000\n",
      "415    male  38.5       3    7.2500\n",
      "\n",
      "[331 rows x 4 columns]\n",
      "Class =  [0 0 1 1 0 0 0 0 1 0 0 1 1 1 1 0 1 1 0 0 1 0 1 0 1 1 1 0 0 1 0 0 0 0 0 0 1\n",
      " 1 0 0 1 1 1 0 1 1 0 0 0 1 0 0 0 1 1 0 0 0 1 1 0 0 1 1 1 1 0 1 1 0 1 1 1 1\n",
      " 0 1 1 0 1 1 1 0 1 0 0 1 0 0 0 0 1 1 1 0 1 0 1 1 1 0 0 0 0 0 1 1 0 0 1 0 0\n",
      " 0 0 0 0 0 1 1 0 0 1 1 0 0 1 1 1 1 1 1 0 0 1 0 0 1 0 0 1 1 0 1 1 0 0 1 1 0\n",
      " 1 0 0 0 1 0 1 0 1 0 0 1 0 1 0 0 0 1 0 1 0 0 0 0 0 1 1 0 1 1 1 0 0 0 0 1 0\n",
      " 1 0 0 1 1 1 1 1 0 0 1 0 1 1 0 0 0 0 0 1 0 0 0 1 1 0 0 0 1 1 0 0 0 0 0 1 0\n",
      " 0 0 0 0 0 0 0 1 0 0 0 0 0 1 0 1 1 0 0 1 0 1 0 0 0 0 0 0 0 0 0 1 0 1 0 0 0\n",
      " 1 0 0 0 0 0 0 0 0 0 1 1 0 0 0 1 1 0 0 0 0 1 1 1 1 1 1 1 1 0 1 0 0 1 1 0 1\n",
      " 1 0 0 0 0 0 0 1 0 0 0 0 0 1 0 0 0 1 0 1 0 0 1 0 1 0 0 0 0 1 1 1 0 1 0]\n",
      "\n",
      "\n",
      "Error ratio =  1.23 %\n"
     ]
    }
   ],
   "source": [
    "import pandas as pd\n",
    "from sklearn.tree import DecisionTreeClassifier\n",
    "from sklearn import tree\n",
    "import graphviz\n",
    "\n",
    "# 1\n",
    "dataset = pd.read_csv('titanic.csv')\n",
    "\n",
    "# 2\n",
    "test_dataset = pd.read_csv('titanic_Test.csv')\n",
    "# print(test_dataset)\n",
    "\n",
    "# 3 Pengisian Missing Value pada train_data[Sex, Age, PClass, Fare]\n",
    "train_data = pd.DataFrame(dataset, columns=['Sex', 'Age', 'Pclass', 'Fare'])\n",
    "train_data['Age'] = train_data['Age'].fillna(dataset.groupby('Survived')['Age'].transform('mean'))\n",
    "train_data['Fare'] = train_data['Fare'].fillna(dataset.groupby('Survived')['Fare'].transform('mean'))\n",
    "\n",
    "# 4\n",
    "test_data = pd.DataFrame(test_dataset, columns=['Sex', 'Age', 'Pclass', 'Fare'])\n",
    "test_data = test_data.dropna()\n",
    "print(test_data)\n",
    "\n",
    "# 5\n",
    "train_label = dataset[\"Survived\"]\n",
    "# print(train_label)\n",
    "\n",
    "# 6\n",
    "test_label = pd.read_csv('titanic_Test_Label.csv')\n",
    "# print(test_label)\n",
    "\n",
    "# 7\n",
    "train_data['Sex'] = train_data['Sex'].replace({'male': 1, 'female': 0})\n",
    "test_data['Sex'] = test_data['Sex'].replace({'male': 1,'female':0})\n",
    "dtc = DecisionTreeClassifier()\n",
    "dtc.fit(train_data, train_label)\n",
    "class_result = dtc.predict(test_data)\n",
    "print('Class = ', class_result)\n",
    "\n",
    "acc=dtc.score(train_data, train_label)\n",
    "err=round((1-acc)*100, 2)\n",
    "print('\\n\\nError ratio = ', err, '%')\n",
    "\n",
    "8\n",
    "dot_data = tree.export_graphviz(dtc, out_file=None,\n",
    "feature_names=train_data.columns.values)\n",
    "\n",
    "graph = graphviz.Source(dot_data, format=\"png\")\n",
    "graph.render( view=True)"
   ]
  }
 ],
 "metadata": {
  "kernelspec": {
   "display_name": "Python 3",
   "language": "python",
   "name": "python3"
  },
  "language_info": {
   "codemirror_mode": {
    "name": "ipython",
    "version": 3
   },
   "file_extension": ".py",
   "mimetype": "text/x-python",
   "name": "python",
   "nbconvert_exporter": "python",
   "pygments_lexer": "ipython3",
   "version": "3.10.12"
  },
  "orig_nbformat": 4
 },
 "nbformat": 4,
 "nbformat_minor": 2
}
